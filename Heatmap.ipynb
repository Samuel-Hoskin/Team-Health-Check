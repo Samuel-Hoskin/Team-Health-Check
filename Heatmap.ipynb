{
 "cells": [
  {
   "cell_type": "markdown",
   "metadata": {},
   "source": [
    "This Script plots the outcomes from the Team Health Check to a heatmap."
   ]
  },
  {
   "cell_type": "markdown",
   "metadata": {},
   "source": [
    "First Cell, imports all the required packets"
   ]
  },
  {
   "cell_type": "code",
   "execution_count": 39,
   "metadata": {},
   "outputs": [],
   "source": [
    "import pandas as pd\n",
    "import seaborn as sns\n",
    "import matplotlib.pyplot as plt"
   ]
  },
  {
   "cell_type": "markdown",
   "metadata": {},
   "source": [
    "We now import the data from a CSV and avg it out by sprint."
   ]
  },
  {
   "cell_type": "code",
   "execution_count": 40,
   "metadata": {},
   "outputs": [
    {
     "name": "stdout",
     "output_type": "stream",
     "text": [
      "Sprint                1    2    3\n",
      "Value               4.1  2.9  3.1\n",
      "Easy to Releace     3.2  3.0  2.8\n",
      "Fun                 3.3  3.4  2.8\n",
      "Health of CodeBase  2.5  3.3  1.7\n",
      "Learning            2.8  3.4  3.2\n",
      "Misson              2.6  3.6  3.3\n",
      "Pawns or Players    3.2  3.1  3.3\n",
      "Speed               3.0  2.6  3.3\n",
      "Suitable Process    3.4  3.4  4.0\n",
      "Support             2.6  3.6  3.7\n",
      "TeamWork            2.7  2.5  2.0\n",
      "Proactive           2.7  2.9  2.5\n",
      "Inclusive           3.2  3.1  2.6\n",
      "Commuincation       3.4  3.2  3.6\n",
      "Feedback            3.6  3.1  3.3\n",
      "Stress              3.1  3.3  2.7\n"
     ]
    }
   ],
   "source": [
    "data = pd.read_csv(\"TestData.csv\")\n",
    "sAvg = data.groupby(\"Sprint\").mean()\n",
    "tsAvg = sAvg.T\n",
    "print(tsAvg)"
   ]
  },
  {
   "cell_type": "code",
   "execution_count": 41,
   "metadata": {},
   "outputs": [
    {
     "name": "stdout",
     "output_type": "stream",
     "text": [
      "   Sprint  Value  Easy to Releace  Fun  Health of CodeBase  Learning  Misson  \\\n",
      "0       1    4.1              3.2  3.3                 2.5       2.8     2.6   \n",
      "1       2    2.9              3.0  3.4                 3.3       3.4     3.6   \n",
      "2       3    3.1              2.8  2.8                 1.7       3.2     3.3   \n",
      "\n",
      "   Pawns or Players  Speed  Suitable Process  Support  TeamWork  Proactive  \\\n",
      "0               3.2    3.0               3.4      2.6       2.7        2.7   \n",
      "1               3.1    2.6               3.4      3.6       2.5        2.9   \n",
      "2               3.3    3.3               4.0      3.7       2.0        2.5   \n",
      "\n",
      "   Inclusive  Commuincation  Feedback  Stress  \n",
      "0        3.2            3.4       3.6     3.1  \n",
      "1        3.1            3.2       3.1     3.3  \n",
      "2        2.6            3.6       3.3     2.7  \n"
     ]
    }
   ],
   "source": [
    "\n",
    "sAvg.reset_index(inplace=True)\n",
    "print(sAvg)\n"
   ]
  },
  {
   "cell_type": "markdown",
   "metadata": {},
   "source": [
    "We "
   ]
  },
  {
   "cell_type": "code",
   "execution_count": 42,
   "metadata": {},
   "outputs": [
    {
     "name": "stdout",
     "output_type": "stream",
     "text": [
      "    Sprint            variable  value\n",
      "0        1               Value    4.1\n",
      "1        2               Value    2.9\n",
      "2        3               Value    3.1\n",
      "3        1     Easy to Releace    3.2\n",
      "4        2     Easy to Releace    3.0\n",
      "5        3     Easy to Releace    2.8\n",
      "6        1                 Fun    3.3\n",
      "7        2                 Fun    3.4\n",
      "8        3                 Fun    2.8\n",
      "9        1  Health of CodeBase    2.5\n",
      "10       2  Health of CodeBase    3.3\n",
      "11       3  Health of CodeBase    1.7\n",
      "12       1            Learning    2.8\n",
      "13       2            Learning    3.4\n",
      "14       3            Learning    3.2\n",
      "15       1              Misson    2.6\n",
      "16       2              Misson    3.6\n",
      "17       3              Misson    3.3\n",
      "18       1    Pawns or Players    3.2\n",
      "19       2    Pawns or Players    3.1\n",
      "20       3    Pawns or Players    3.3\n",
      "21       1               Speed    3.0\n",
      "22       2               Speed    2.6\n",
      "23       3               Speed    3.3\n",
      "24       1    Suitable Process    3.4\n",
      "25       2    Suitable Process    3.4\n",
      "26       3    Suitable Process    4.0\n",
      "27       1             Support    2.6\n",
      "28       2             Support    3.6\n",
      "29       3             Support    3.7\n",
      "30       1            TeamWork    2.7\n",
      "31       2            TeamWork    2.5\n",
      "32       3            TeamWork    2.0\n",
      "33       1           Proactive    2.7\n",
      "34       2           Proactive    2.9\n",
      "35       3           Proactive    2.5\n",
      "36       1           Inclusive    3.2\n",
      "37       2           Inclusive    3.1\n",
      "38       3           Inclusive    2.6\n",
      "39       1       Commuincation    3.4\n",
      "40       2       Commuincation    3.2\n",
      "41       3       Commuincation    3.6\n",
      "42       1            Feedback    3.6\n",
      "43       2            Feedback    3.1\n",
      "44       3            Feedback    3.3\n",
      "45       1              Stress    3.1\n",
      "46       2              Stress    3.3\n",
      "47       3              Stress    2.7\n"
     ]
    }
   ],
   "source": [
    "D3 = sAvg.melt(id_vars=['Sprint'])\n",
    "print(D3)\n",
    "D3.to_csv('D3data.csv', index=False)\n"
   ]
  },
  {
   "cell_type": "code",
   "execution_count": 43,
   "metadata": {},
   "outputs": [],
   "source": [
    "num = tsAvg.count(1)\n"
   ]
  },
  {
   "cell_type": "code",
   "execution_count": 44,
   "metadata": {},
   "outputs": [
    {
     "name": "stdout",
     "output_type": "stream",
     "text": [
      "3\n"
     ]
    }
   ],
   "source": [
    "xs = num.loc['Fun']\n",
    "xss = int(xs)\n",
    "print(xss)"
   ]
  },
  {
   "cell_type": "code",
   "execution_count": 45,
   "metadata": {},
   "outputs": [
    {
     "name": "stdout",
     "output_type": "stream",
     "text": [
      "Sprint                1    2    3       Avg\n",
      "Value               4.1  2.9  3.1  3.366667\n",
      "Easy to Releace     3.2  3.0  2.8  3.000000\n",
      "Fun                 3.3  3.4  2.8  3.166667\n",
      "Health of CodeBase  2.5  3.3  1.7  2.500000\n",
      "Learning            2.8  3.4  3.2  3.133333\n",
      "Misson              2.6  3.6  3.3  3.166667\n",
      "Pawns or Players    3.2  3.1  3.3  3.200000\n",
      "Speed               3.0  2.6  3.3  2.966667\n",
      "Suitable Process    3.4  3.4  4.0  3.600000\n",
      "Support             2.6  3.6  3.7  3.300000\n",
      "TeamWork            2.7  2.5  2.0  2.400000\n",
      "Proactive           2.7  2.9  2.5  2.700000\n",
      "Inclusive           3.2  3.1  2.6  2.966667\n",
      "Commuincation       3.4  3.2  3.6  3.400000\n",
      "Feedback            3.6  3.1  3.3  3.333333\n",
      "Stress              3.1  3.3  2.7  3.033333\n"
     ]
    }
   ],
   "source": [
    "x = tsAvg.mean(axis=1)\n",
    "y = tsAvg.insert(xss, \"Avg\", x)\n",
    "print(tsAvg)"
   ]
  },
  {
   "cell_type": "code",
   "execution_count": 49,
   "metadata": {},
   "outputs": [
    {
     "data": {
      "image/png": "[encoded data removed]",
      "text/plain": [
       "<Figure size 432x288 with 2 Axes>"
      ]
     },
     "metadata": {
      "needs_background": "light"
     },
     "output_type": "display_data"
    }
   ],
   "source": [
    "sns.heatmap(tsAvg, annot=True, annot_kws={\"size\": 10}, cmap=\"RdYlGn\", vmin=1, vmax=5)\n",
    "plt.tight_layout()\n",
    "plt.savefig('test.png', dpi=300)\n",
    "plt.savefig('test.svg', dpi=300)"
   ]
  },
  {
   "cell_type": "markdown",
   "metadata": {},
   "source": []
  }
 ],
 "metadata": {
  "interpreter": {
   "hash": "63fd5069d213b44bf678585dea6b12cceca9941eaf7f819626cde1f2670de90d"
  },
  "kernelspec": {
   "display_name": "Python 3.9.5 64-bit (system)",
   "name": "python3"
  },
  "language_info": {
   "codemirror_mode": {
    "name": "ipython",
    "version": 3
   },
   "file_extension": ".py",
   "mimetype": "text/x-python",
   "name": "python",
   "nbconvert_exporter": "python",
   "pygments_lexer": "ipython3",
   "version": "3.9.5"
  },
  "orig_nbformat": 4
 },
 "nbformat": 4,
 "nbformat_minor": 2
}
